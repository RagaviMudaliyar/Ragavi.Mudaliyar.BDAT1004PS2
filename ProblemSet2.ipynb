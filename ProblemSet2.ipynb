{
 "cells": [
  {
   "cell_type": "markdown",
   "id": "137ae609",
   "metadata": {},
   "source": [
    "Que1: Consider the following Python module, after importing the module into the interpreter, you execute:\n",
    "What value is displayed when the last expression (a) is evaluated?\n",
    "Explain your answer by indicating what happens in every executed statement."
   ]
  },
  {
   "cell_type": "code",
   "execution_count": 28,
   "id": "4af05611",
   "metadata": {},
   "outputs": [
    {
     "data": {
      "text/plain": [
       "6"
      ]
     },
     "execution_count": 28,
     "metadata": {},
     "output_type": "execute_result"
    }
   ],
   "source": [
    "a=0\n",
    "def b():\n",
    "    global a\n",
    "    a = c(a)\n",
    "\n",
    "\n",
    "def c(a):\n",
    "    return a + 2\n",
    "\n",
    "b()\n",
    "b()\n",
    "b()\n",
    "a"
   ]
  },
  {
   "cell_type": "markdown",
   "id": "a11b29f9",
   "metadata": {},
   "source": [
    "Explanation:\n",
    "- assigning a as 0 and setting it as global to use it in below function.\n",
    "- giving c of a to a, and in next function returning a+2\n",
    "\n",
    "- so when the program will run, for 1st b() the output will be 0+2 = 2, for 2nd b() 2+2=4 and likewise for 3rd, 4+2=6.\n",
    "- i.e value of a is 6"
   ]
  },
  {
   "cell_type": "markdown",
   "id": "e00a4011",
   "metadata": {},
   "source": [
    "Que2: Taking name of file and calculating length of file"
   ]
  },
  {
   "cell_type": "code",
   "execution_count": 29,
   "id": "77404a59",
   "metadata": {},
   "outputs": [
    {
     "name": "stdout",
     "output_type": "stream",
     "text": [
      "477\n",
      "File idterm.py not found!\n"
     ]
    }
   ],
   "source": [
    "def fileLength(filename):\n",
    "    try:\n",
    "        infile = open(filename)\n",
    "        items = infile.read()\n",
    "        infile.close()\n",
    "        print(len(items))\n",
    "    except:\n",
    "        print(\"File \"+filename+\" not found!\")\n",
    "fileLength(\"C:\\\\Users\\\\12269\\\\Documents\\\\BIG DATA ANALYTICS\\\\Data Programming\\\\problem set-1 oct13\\\\currency.txt\")\n",
    "fileLength(\"idterm.py\")"
   ]
  },
  {
   "cell_type": "markdown",
   "id": "04f93443",
   "metadata": {},
   "source": [
    "Explanation:\n",
    "- defining function\n",
    "- opening file\n",
    "- reading file and closing it\n",
    "- printing length of items in file (word count)\n",
    "- exception : if file name not found, throw exception as file-filename-not found\n",
    "- giving path of file to print worf count of file."
   ]
  },
  {
   "cell_type": "markdown",
   "id": "a7d01388",
   "metadata": {},
   "source": [
    "Que3:"
   ]
  },
  {
   "cell_type": "code",
   "execution_count": 30,
   "id": "c45a0487",
   "metadata": {},
   "outputs": [
    {
     "name": "stdout",
     "output_type": "stream",
     "text": [
      "I am a Kangaroo located at coordinates (0,0)\n",
      "['doll', 'firetruck', 'kitten']\n",
      "I am a Kangaroo located at coordinates (3,0)\n"
     ]
    }
   ],
   "source": [
    "class Marsupial: #parent class \n",
    "    \n",
    "    def __init__(self,x,y): #defining constructor to take input\n",
    "        self.pouch=[]                   \n",
    "             \n",
    "    def put_in_pouch(self,items): #appending items to the empty self.pouch() list\n",
    "        self.pouch.append(items)\n",
    "        \n",
    "    def pouch_contents(self):           \n",
    "        return self.pouch\n",
    "\n",
    "class Kangaroo(Marsupial): #creating sub-class\n",
    "    def __init__(self,x,y):              \n",
    "        super().__init__(x,y) #taking x and y\n",
    "        self.dx = 0                      \n",
    "        self.dy = 0                        \n",
    "    \n",
    "    def jump(self,x,y):                 \n",
    "        self.dx = self.dx + x  #defining jump function\n",
    "        self.dy = self.dy + y\n",
    "    \n",
    "    def __str__(self): #overload the _str_ operator \n",
    "        \n",
    "        return ('I am a Kangaroo located at coordinates ({},{})'.format(self.dx,self.dy))\n",
    "\n",
    "k = Kangaroo(0,0)\n",
    "print(k)\n",
    "k.put_in_pouch('doll')\n",
    "k.put_in_pouch('firetruck')\n",
    "k.put_in_pouch('kitten')\n",
    "k.pouch_contents()\n",
    "print(k.pouch)  \n",
    "k.jump(1,0)\n",
    "k.jump(1,0)\n",
    "k.jump(1,0)\n",
    "print(k)"
   ]
  },
  {
   "cell_type": "markdown",
   "id": "6d07a37b",
   "metadata": {},
   "source": [
    "Que4: Write function collatz() that takes a positive integer x as input and prints the \n",
    "Collatz sequence starting at x. A Collatz sequence is obtained by repeatedly applying \n",
    "this rule to the previous number x in the sequence:\n",
    "\n",
    "Your function should stop when the sequence gets to number 1.\n",
    "Your implementation must be recursive, without any loops."
   ]
  },
  {
   "cell_type": "code",
   "execution_count": 31,
   "id": "08461e26",
   "metadata": {},
   "outputs": [
    {
     "name": "stdout",
     "output_type": "stream",
     "text": [
      "1\n",
      "10\n",
      "5\n",
      "16\n",
      "8\n",
      "4\n",
      "2\n",
      "1\n"
     ]
    }
   ],
   "source": [
    "def collatz (x): #defining function\n",
    "    if(x != 1): #checking condition by if (it is not = 1)\n",
    "        print(x ,end ='\\n') #true --> will print the value and will end\n",
    "    if(x == 1): #checking condition by if (it is equal to 1)\n",
    "        print(x ,end ='\\n') #true --> will print the value and will end\n",
    "        return x\n",
    "    if(x%2 == 0): #checking if the remainder will be zero or not, after dividing it by zero\n",
    "        x = x // 2 #will divide and store it in int value\n",
    "        collatz(x) #return x\n",
    "    else:\n",
    "        x= 3*x + 1 #will run if above condition is false; multiplying x with 3 and addind it with 1\n",
    "        collatz(x) #return x\n",
    "\n",
    "\n",
    "collatz(1)\n",
    "collatz(10)"
   ]
  },
  {
   "cell_type": "markdown",
   "id": "66d4eccb",
   "metadata": {},
   "source": [
    "Que5: Write a recursive method binary() that takes a non-negative \n",
    "integer n and prints the binary representation of integer n."
   ]
  },
  {
   "cell_type": "code",
   "execution_count": 32,
   "id": "fc41e737",
   "metadata": {},
   "outputs": [
    {
     "name": "stdout",
     "output_type": "stream",
     "text": [
      "100\n",
      "10\n",
      "101\n",
      "0\n"
     ]
    }
   ],
   "source": [
    "binary_number =\"\"\n",
    "def binary (n):\n",
    "    global binary_number\n",
    "    if(n!=1): #checking condition by if (n is not = 1)\n",
    "        if(n==0): #checking condition by if (it is not = 0)\n",
    "            print(\"0\") #print 0\n",
    "        else:\n",
    "            x=\"\" \n",
    "            remainder = int(n%2) #print remainder after dividing by 2\n",
    "            x =str(remainder) #converting remainder to string\n",
    "            binary_number+=x\n",
    "            n =int(n/2) #dividing n by 2\n",
    "            binary(n) #passing input\n",
    "    else:\n",
    "        binary_number +=\"1\" #\n",
    "        binary_number = binary_number [::-1] \n",
    "        print(binary_number) #printing binary number \n",
    "        binary_number=\"\"\n",
    "        \n",
    "binary(4)\n",
    "binary(2)\n",
    "binary(5)\n",
    "binary(0)"
   ]
  },
  {
   "cell_type": "markdown",
   "id": "405b3777",
   "metadata": {},
   "source": [
    "Que6: Implement a class named HeadingParser that can be used to parse an HTML document, and retrieve and print all the headings in the document. You should implement your class as a subclass of HTMLParser, defined in Standard Library module html.parser. When fed a string containing HTML code, your class should print the headings, one per line and in the order in which they appear in the document. Each heading should be indented as follows: an h1 heading should have indentation 0, and h2 heading should have indentation 1, etc. Test your implementation using w3c.html."
   ]
  },
  {
   "cell_type": "code",
   "execution_count": 35,
   "id": "d8095362",
   "metadata": {},
   "outputs": [
    {
     "name": "stdout",
     "output_type": "stream",
     "text": [
      "W3C Mission\n",
      "\tPrinciples\n"
     ]
    }
   ],
   "source": [
    "from html.parser import HTMLParser\n",
    "x1='False'\n",
    "x2='False'\n",
    "class HeadingParser(HTMLParser):  \n",
    "    def handle_starttag(self, tag, attrs):\n",
    "        if tag == 'h1':\n",
    "            global x1\n",
    "            x1 = \"True\"\n",
    "        if tag == 'h2':\n",
    "            global x2\n",
    "            x2 = \"True\"  \n",
    "    def handle_endtag(self, tag):\n",
    "        if x1 == \"False\":\n",
    "            pass\n",
    "        if x2 == \"False\":\n",
    "            pass\n",
    "    def handle_data(self, data):\n",
    "        global x1,x2\n",
    "        if x1 == \"True\": \n",
    "            print(data)\n",
    "            x1='False'    \n",
    "        if x2 == \"True\":        \n",
    "            print('\\t',end='')\n",
    "            print(data)\n",
    "            x2 = 'False'\n",
    "infile = open('w3c.html') \n",
    "content = infile.read() \n",
    "infile.close() \n",
    "hp = HeadingParser() \n",
    "hp.feed(content)"
   ]
  },
  {
   "cell_type": "markdown",
   "id": "4d789e3a",
   "metadata": {},
   "source": [
    "Que 7: Implement recursive function webdir() that takes as input: a URL (as a string) and non-negative integers depth and indent. Your function should visit every web page reachable from the starting URL web page in depth clicks or less, and print each web page's URL. As shown below, indentation, specified by indent, should be used to indicate the depth of a URL."
   ]
  },
  {
   "cell_type": "code",
   "execution_count": 36,
   "id": "af85cece",
   "metadata": {},
   "outputs": [
    {
     "name": "stdout",
     "output_type": "stream",
     "text": [
      "http://reed.cs.depaul.edu/lperkovic/test1.html\n",
      " http://reed.cs.depaul.edu/lperkovic/test2.html\n",
      "  http://reed.cs.depaul.edu/lperkovic/test4.html\n",
      " http://reed.cs.depaul.edu/lperkovic/test3.html\n",
      "  http://reed.cs.depaul.edu/lperkovic/test4.html\n"
     ]
    }
   ],
   "source": [
    "from urllib.request import urlopen\n",
    "from urllib.parse import urljoin\n",
    "from html.parser import HTMLParser\n",
    "\n",
    "class MainFunction(HTMLParser):\n",
    "\n",
    "    def __init__(self, giv_URL):\n",
    "\n",
    "        HTMLParser.__init__(self)\n",
    "        self.givenURL = giv_URL\n",
    "        self.availableLinks = []\n",
    "        \n",
    "    def catchLinks(self):\n",
    "        return self.availableLinks\n",
    "\n",
    "    def handle_starttag(self, tag, attrs):\n",
    "        if tag == 'a':\n",
    "            for attr in attrs:          \n",
    "                if attr[0] == 'href': \n",
    "                    absolute = urljoin(self.givenURL, attr[1])\n",
    "                    if absolute[:4] == 'http':\n",
    "                        self.availableLinks.append(absolute)\n",
    "\n",
    "\n",
    "all_Links = []\n",
    "def webdir(giv_URL,depth,index):\n",
    "    global all_Links\n",
    "    res = urlopen(giv_URL)\n",
    "    cont = res.read().decode()\n",
    "    c =MainFunction(giv_URL)\n",
    "    c.feed(cont)\n",
    "    all_Links = c.catchLinks()\n",
    "    print(index*\" \" + giv_URL)\n",
    "    if depth == 0:\n",
    "         return \n",
    "    for i in all_Links: \n",
    "        webdir(i, depth-1, index+1)    \n",
    "\n",
    "\n",
    "webdir('http://reed.cs.depaul.edu/lperkovic/test1.html',2,0)"
   ]
  },
  {
   "cell_type": "markdown",
   "id": "209797b0",
   "metadata": {},
   "source": [
    "Que 8: Write SQL queries on the below database table that return: \n",
    "a) All the temperature data.\n",
    "b) All the cities, but without repetition.\n",
    "c) All the records for India.\n",
    "d) All the Fall records.\n",
    "e) The city, country, and season for which the average rainfall is between 200 \n",
    "and 400 millimeters.\n",
    "f) The city and country for which the average Fall temperature is above 20 \n",
    "degrees, in increasing temperature order.\n",
    "g) The total annual rainfall for Cairo.\n",
    "h) The total rainfall for each season."
   ]
  },
  {
   "cell_type": "code",
   "execution_count": 22,
   "id": "aa28ab18",
   "metadata": {},
   "outputs": [
    {
     "name": "stdout",
     "output_type": "stream",
     "text": [
      "(24.8,)(28.4,)(27.9,)(27.6,)(4.2,)(8.3,)(15.7,)(10.4,)(13.6,)(20.7,)(27.7,)(22.2,)\n",
      "('Mumbai',)('London',)('Cairo',)\n",
      "('Mumbai', 'India', 'Winter', 24.8, 5.9)('Mumbai', 'India', 'Spring', 28.4, 16.2)('Mumbai', 'India', 'Summer', 27.9, 1549.4)('Mumbai', 'India', 'Fall', 27.6, 346)\n",
      "('Mumbai', 'India', 'Fall', 27.6, 346)('London', 'United Kingdom', 'Fall', 10.4, 218.5)('Cairo', 'Egypt', 'Fall', 22.2, 4.5)\n",
      "('Mumbai', 'India', 'Fall')('London', 'United Kingdom', 'Winter')('London', 'United Kingdom', 'Fall')\n",
      "('Cairo', 'Egypt')('Mumbai', 'India')\n",
      "(27.6,)\n",
      "('Fall', 569.0)('Spring', 192.29999999999998)('Summer', 1706.5)('Winter', 230.1)"
     ]
    }
   ],
   "source": [
    "import sqlite3\n",
    "conn = sqlite3.connect('trial.db')\n",
    "conn.execute('''\n",
    "CREATE TABLE IF NOT EXISTS seasonal_records(city text, \n",
    "                      country text, \n",
    "                      season integer, \n",
    "                      temperature integer,\n",
    "                      rainfall integer);''')\n",
    "conn.commit()\n",
    "my_cur = conn.cursor()\n",
    "conn.execute(\"INSERT INTO seasonal_records VALUES('Mumbai', 'India', 'Winter', 24.8, 5.9);\")\n",
    "conn.execute(\"INSERT INTO seasonal_records VALUES('Mumbai', 'India', 'Spring', 28.4, 16.2);\")\n",
    "conn.execute(\"INSERT INTO seasonal_records VALUES('Mumbai', 'India', 'Summer', 27.9, 1549.4);\")\n",
    "conn.execute(\"INSERT INTO seasonal_records VALUES('Mumbai', 'India', 'Fall', 27.6, 346.0);\")\n",
    "conn.execute(\"INSERT INTO seasonal_records VALUES('London', 'United Kingdom', 'Winter', 4.2, 207.7);\")\n",
    "conn.execute(\"INSERT INTO seasonal_records VALUES('London', 'United Kingdom', 'Spring', 8.3, 169.6 );\")\n",
    "conn.execute(\"INSERT INTO seasonal_records VALUES('London', 'United Kingdom', 'Summer', 15.7, 157.0);\")\n",
    "conn.execute(\"INSERT INTO seasonal_records VALUES('London', 'United Kingdom', 'Fall', 10.4, 218.5);\")\n",
    "conn.execute(\"INSERT INTO seasonal_records VALUES('Cairo', 'Egypt', 'Winter', 13.6, 16.5);\")\n",
    "conn.execute(\"INSERT INTO seasonal_records VALUES('Cairo', 'Egypt', 'Spring', 20.7, 6.5);\")\n",
    "conn.execute(\"INSERT INTO seasonal_records VALUES('Cairo', 'Egypt', 'Summer', 27.7, 0.1);\")\n",
    "conn.execute(\"INSERT INTO seasonal_records VALUES('Cairo', 'Egypt', 'Fall', 22.2, 4.5);\")\n",
    "\n",
    "my_cur.execute(\"SELECT temperature from seasonal_records\")\n",
    "my_result =my_cur.fetchall() #query a\n",
    "for x in my_result:\n",
    "  print(x, end=\"\")\n",
    "\n",
    "print()\n",
    "my_cur.execute(\"SELECT DISTINCT(city) from seasonal_records\")\n",
    "my_result = my_cur.fetchall() #query b\n",
    "for x in my_result:\n",
    "  print(x, end=\"\")\n",
    "\n",
    "print()\n",
    "my_cur.execute(\"SELECT * from seasonal_records where country = 'India'\")\n",
    "my_result = my_cur.fetchall() #query c\n",
    "for x in my_result:\n",
    "  print(x, end=\"\")\n",
    "\n",
    "print()\n",
    "my_cur.execute(\"SELECT * from seasonal_records where season = 'Fall'\")\n",
    "my_result = my_cur.fetchall()  #query d\n",
    "for x in my_result:\n",
    "  print(x, end=\"\")\n",
    "\n",
    "print()\n",
    "my_cur.execute(\"SELECT city,country,season from seasonal_records where rainfall BETWEEN 200 and 400\")\n",
    "my_result = my_cur.fetchall()  #query e\n",
    "for x in my_result:\n",
    "  print(x, end=\"\")\n",
    "\n",
    "print()\n",
    "my_cur.execute(\"SELECT city,country from seasonal_records where (season = 'Fall' and temperature > 20) Order BY temperature ASC \")\n",
    "my_result = my_cur.fetchall() #query f\n",
    "for x in my_result:\n",
    "  print(x, end=\"\")\n",
    "\n",
    "print()\n",
    "my_cur.execute(\"SELECT sum(rainfall) from seasonal_records where city = 'Cairo'\")\n",
    "my_result = my_cur.fetchall()  #query g\n",
    "for x in my_result:\n",
    "  print(x, end=\"\")\n",
    "\n",
    "print()\n",
    "my_cur.execute(\"SELECT season, sum(rainfall) from seasonal_records group by season\")\n",
    "my_result = my_cur.fetchall() #query h\n",
    "for x in my_result:\n",
    "  print(x, end=\"\")\n",
    "\n",
    "conn.close()"
   ]
  },
  {
   "cell_type": "markdown",
   "id": "8af32648",
   "metadata": {},
   "source": [
    "Que 9:"
   ]
  },
  {
   "cell_type": "code",
   "execution_count": 37,
   "id": "9a18af95",
   "metadata": {},
   "outputs": [
    {
     "name": "stdout",
     "output_type": "stream",
     "text": [
      "['THE', 'QUICK', 'BROWN', 'FOX', 'JUMPS', 'OVER', 'THE', 'LAZY', 'DOG']\n",
      "['the', 'quick', 'brown', 'fox', 'jumps', 'over', 'the', 'lazy', 'dog']\n",
      "[3, 5, 5, 3, 5, 4, 3, 4, 3]\n",
      "[['THE', 'the', 3], ['QUICK', 'quick', 5], ['BROWN', 'brown', 5], ['FOX', 'fox', 3], ['JUMPS', 'jumps', 5], ['OVER', 'over', 4], ['THE', 'the', 3], ['LAZY', 'lazy', 4], ['DOG', 'dog', 3]]\n",
      "['The', 'quick', 'brown', 'fox', 'jumps', 'over', 'the', 'lazy', 'dog']\n"
     ]
    }
   ],
   "source": [
    "words = ['The', 'quick', 'brown', 'fox', 'jumps', 'over', 'the', 'lazy', 'dog']\n",
    "print([x.upper() for x in words]) #printing uppercase of given list of words\n",
    "print([x.lower() for x in words]) #printing lowercase of given list of words\n",
    "print([len(x) for x in words]) #printing length of each word in the list\n",
    "print([[x.upper(), x.lower(), len(x)]for x in words]) #printing sub lists containing uppercase,lowercase and length of each word in a list\n",
    "print([x for x in words if len(x) >= 3]) #printing words whose lengths are greater than or equal to 3"
   ]
  },
  {
   "cell_type": "code",
   "execution_count": null,
   "id": "d366ba0b",
   "metadata": {},
   "outputs": [],
   "source": []
  }
 ],
 "metadata": {
  "kernelspec": {
   "display_name": "Python 3 (ipykernel)",
   "language": "python",
   "name": "python3"
  },
  "language_info": {
   "codemirror_mode": {
    "name": "ipython",
    "version": 3
   },
   "file_extension": ".py",
   "mimetype": "text/x-python",
   "name": "python",
   "nbconvert_exporter": "python",
   "pygments_lexer": "ipython3",
   "version": "3.9.13"
  }
 },
 "nbformat": 4,
 "nbformat_minor": 5
}
